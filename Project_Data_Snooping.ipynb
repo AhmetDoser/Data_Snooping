{
 "cells": [
  {
   "cell_type": "markdown",
   "id": "32005a08",
   "metadata": {},
   "source": [
    "# Data snooping\n",
    "Data snooping is a form of statistical bias manipulating data or analysis to artificially get statistically significant results.\n",
    "\n",
    "Extended data manipulation increases your chances of observing statistically significant results because of the probabilistic nature of all statistical tests. Although some of these results may be significant by nature, other results could demonstrate this property just by chance.\n",
    "\n",
    "Alternative names: data dredging, data fishing, p-hacking."
   ]
  },
  {
   "cell_type": "markdown",
   "id": "5a23aeb4",
   "metadata": {},
   "source": [
    "## Jelly beans experiment\n",
    "In this simple simulation we will demonstrate an example of data snooping."
   ]
  },
  {
   "cell_type": "markdown",
   "id": "1db89564",
   "metadata": {},
   "source": [
    "## Part 1: does eating jelly beans cause acne?\n",
    "Suppose you study the effect of jelly beans on acne. To do so, you conduct a survey among  500\n",
    "  volunteers and collect the following information:\n",
    "\n",
    "if a participant eats jelly beans on a regular basis;\n",
    "participant's acne condition measured as a value between  0\n",
    "  and  1."
   ]
  },
  {
   "cell_type": "markdown",
   "id": "76bc1c63",
   "metadata": {},
   "source": [
    "Let us simulate the data. We generate two independent random variables:\n",
    "\n",
    "acne_condition indicating the acne condition of a participant drawn from uniform distribution  U(0,1)\n",
    " ;\n",
    "eating indicating jelly bean consumption will drawn from Bernoulli distribution  Bern(0.9)\n",
    " ;\n",
    "Here we assume that  90%\n",
    "  of the population eats jelly beans on a regular basis."
   ]
  },
  {
   "cell_type": "code",
   "execution_count": 1,
   "id": "192050e6",
   "metadata": {},
   "outputs": [],
   "source": [
    "import numpy as np\n",
    "import pandas as pd\n",
    "import seaborn as sns\n",
    "import matplotlib.pyplot as plt"
   ]
  },
  {
   "cell_type": "code",
   "execution_count": 2,
   "id": "fa9da4ff",
   "metadata": {},
   "outputs": [
    {
     "data": {
      "text/html": [
       "<div>\n",
       "<style scoped>\n",
       "    .dataframe tbody tr th:only-of-type {\n",
       "        vertical-align: middle;\n",
       "    }\n",
       "\n",
       "    .dataframe tbody tr th {\n",
       "        vertical-align: top;\n",
       "    }\n",
       "\n",
       "    .dataframe thead th {\n",
       "        text-align: right;\n",
       "    }\n",
       "</style>\n",
       "<table border=\"1\" class=\"dataframe\">\n",
       "  <thead>\n",
       "    <tr style=\"text-align: right;\">\n",
       "      <th></th>\n",
       "      <th>acne_condition</th>\n",
       "      <th>eating</th>\n",
       "    </tr>\n",
       "  </thead>\n",
       "  <tbody>\n",
       "    <tr>\n",
       "      <th>0</th>\n",
       "      <td>0.435995</td>\n",
       "      <td>eating</td>\n",
       "    </tr>\n",
       "    <tr>\n",
       "      <th>1</th>\n",
       "      <td>0.025926</td>\n",
       "      <td>eating</td>\n",
       "    </tr>\n",
       "    <tr>\n",
       "      <th>2</th>\n",
       "      <td>0.549662</td>\n",
       "      <td>eating</td>\n",
       "    </tr>\n",
       "    <tr>\n",
       "      <th>3</th>\n",
       "      <td>0.435322</td>\n",
       "      <td>eating</td>\n",
       "    </tr>\n",
       "    <tr>\n",
       "      <th>4</th>\n",
       "      <td>0.420368</td>\n",
       "      <td>not eating</td>\n",
       "    </tr>\n",
       "  </tbody>\n",
       "</table>\n",
       "</div>"
      ],
      "text/plain": [
       "   acne_condition      eating\n",
       "0        0.435995      eating\n",
       "1        0.025926      eating\n",
       "2        0.549662      eating\n",
       "3        0.435322      eating\n",
       "4        0.420368  not eating"
      ]
     },
     "execution_count": 2,
     "metadata": {},
     "output_type": "execute_result"
    }
   ],
   "source": [
    "np.random.seed(2)\n",
    "\n",
    "people = 500\n",
    "p_eat_jelly_bean = 0.9\n",
    "\n",
    "# draw a sample\n",
    "acne_condition = np.random.rand(people)\n",
    "eating = np.random.choice(['eating', 'not eating'], people, replace=True, p=[p_eat_jelly_bean, 1 - p_eat_jelly_bean])\n",
    "\n",
    "# create data frame\n",
    "data = pd.DataFrame({'acne_condition': acne_condition, 'eating': eating})\n",
    "data.head()"
   ]
  },
  {
   "cell_type": "code",
   "execution_count": 3,
   "id": "9de7e6e8",
   "metadata": {},
   "outputs": [
    {
     "name": "stderr",
     "output_type": "stream",
     "text": [
      "C:\\Users\\omrsh\\AppData\\Local\\Temp\\ipykernel_15576\\2742637519.py:5: FutureWarning: \n",
      "\n",
      "Passing `palette` without assigning `hue` is deprecated and will be removed in v0.14.0. Assign the `x` variable to `hue` and set `legend=False` for the same effect.\n",
      "\n",
      "  sns.boxplot(x='eating', y='acne_condition', data=data, palette={'eating': 'yellow', 'not eating': 'blue'})\n",
      "No artists with labels found to put in legend.  Note that artists whose label start with an underscore are ignored when legend() is called with no argument.\n"
     ]
    },
    {
     "data": {
      "image/png": "[encoded data removed]",
      "text/plain": [
       "<Figure size 500x400 with 1 Axes>"
      ]
     },
     "metadata": {},
     "output_type": "display_data"
    }
   ],
   "source": [
    "# Set the plot size\n",
    "plt.figure(figsize=(5, 4))\n",
    "\n",
    "# Boxplot for eating vs acne_condition\n",
    "sns.boxplot(x='eating', y='acne_condition', data=data, palette={'eating': 'yellow', 'not eating': 'blue'})\n",
    "\n",
    "# Remove legend and adjust plot title\n",
    "plt.legend().set_visible(False)\n",
    "plt.title('Distribution of acne condition\\nfor people eating/not eating jelly beans', loc='center')\n",
    "\n",
    "# Set axis labels\n",
    "plt.xlabel('Eating jelly beans')\n",
    "plt.ylabel('Acne condition')\n",
    "\n",
    "# Show the plot\n",
    "plt.show()\n"
   ]
  },
  {
   "cell_type": "markdown",
   "id": "3c31e700",
   "metadata": {},
   "source": [
    "Now we state the null hypothesis: \"There is no effect of eating jelly beans on acne condition.\" To check this hypothesis we run t-test."
   ]
  },
  {
   "cell_type": "code",
   "execution_count": 4,
   "id": "b01c10b3",
   "metadata": {},
   "outputs": [
    {
     "name": "stdout",
     "output_type": "stream",
     "text": [
      "t-statistic: 0.06292266277992374\n",
      "p-value: 0.9498533350098048\n"
     ]
    }
   ],
   "source": [
    "from scipy.stats import ttest_ind\n",
    "\n",
    "# Extract the acne_condition values for each group\n",
    "eating_values = data[data['eating'] == 'eating']['acne_condition']\n",
    "not_eating_values = data[data['eating'] == 'not eating']['acne_condition']\n",
    "\n",
    "# Perform t-test\n",
    "t_statistic, p_value = ttest_ind(eating_values, not_eating_values)\n",
    "\n",
    "# Display the results\n",
    "print(\"t-statistic:\", t_statistic)\n",
    "print(\"p-value:\", p_value)"
   ]
  },
  {
   "cell_type": "markdown",
   "id": "cb595234",
   "metadata": {},
   "source": [
    "The resulting p-value is high, i.e.  p=0.95>0.05, so we cannot reject the null. In other words, we conclude that there is not enough evidence to say that eating jelly beans causes acne. (Actually, we are not surprized as eating and acne_condition were generated independently of each other)."
   ]
  },
  {
   "cell_type": "markdown",
   "id": "10d95166",
   "metadata": {},
   "source": [
    "# Part 2: which jelly bean color causes acne?"
   ]
  },
  {
   "cell_type": "markdown",
   "id": "1d55b3ad",
   "metadata": {},
   "source": [
    "You got It non-significant p-value and feel disappointed as you cannot publish your results. Your colleague suggests you to further investigate the data and check different colors of jelly beans. Maybe one of them is more dangerous than the others?"
   ]
  },
  {
   "cell_type": "markdown",
   "id": "2e66deb9",
   "metadata": {},
   "source": [
    "Now we add the color information to the data. We assume that there exist  20\n",
    "  different jelly bean colors and that people eat jelly beans of each color with equal probability."
   ]
  },
  {
   "cell_type": "markdown",
   "id": "a20139bf",
   "metadata": {},
   "source": [
    "The code below generates one more random variable jelly_bean_color."
   ]
  },
  {
   "cell_type": "code",
   "execution_count": 5,
   "id": "bba5d608",
   "metadata": {},
   "outputs": [
    {
     "data": {
      "text/html": [
       "<div>\n",
       "<style scoped>\n",
       "    .dataframe tbody tr th:only-of-type {\n",
       "        vertical-align: middle;\n",
       "    }\n",
       "\n",
       "    .dataframe tbody tr th {\n",
       "        vertical-align: top;\n",
       "    }\n",
       "\n",
       "    .dataframe thead th {\n",
       "        text-align: right;\n",
       "    }\n",
       "</style>\n",
       "<table border=\"1\" class=\"dataframe\">\n",
       "  <thead>\n",
       "    <tr style=\"text-align: right;\">\n",
       "      <th></th>\n",
       "      <th>acne_condition</th>\n",
       "      <th>eating</th>\n",
       "      <th>jelly_bean_color</th>\n",
       "    </tr>\n",
       "  </thead>\n",
       "  <tbody>\n",
       "    <tr>\n",
       "      <th>0</th>\n",
       "      <td>0.435995</td>\n",
       "      <td>eating</td>\n",
       "      <td>brown</td>\n",
       "    </tr>\n",
       "    <tr>\n",
       "      <th>1</th>\n",
       "      <td>0.025926</td>\n",
       "      <td>eating</td>\n",
       "      <td>aquamarine</td>\n",
       "    </tr>\n",
       "    <tr>\n",
       "      <th>2</th>\n",
       "      <td>0.549662</td>\n",
       "      <td>eating</td>\n",
       "      <td>peachpuff</td>\n",
       "    </tr>\n",
       "    <tr>\n",
       "      <th>3</th>\n",
       "      <td>0.435322</td>\n",
       "      <td>eating</td>\n",
       "      <td>brown</td>\n",
       "    </tr>\n",
       "    <tr>\n",
       "      <th>4</th>\n",
       "      <td>0.420368</td>\n",
       "      <td>not eating</td>\n",
       "      <td>NaN</td>\n",
       "    </tr>\n",
       "  </tbody>\n",
       "</table>\n",
       "</div>"
      ],
      "text/plain": [
       "   acne_condition      eating jelly_bean_color\n",
       "0        0.435995      eating            brown\n",
       "1        0.025926      eating       aquamarine\n",
       "2        0.549662      eating        peachpuff\n",
       "3        0.435322      eating            brown\n",
       "4        0.420368  not eating              NaN"
      ]
     },
     "execution_count": 5,
     "metadata": {},
     "output_type": "execute_result"
    }
   ],
   "source": [
    "np.random.seed(2)\n",
    "\n",
    "# Create a list of colors\n",
    "colors = ['red', 'grey', 'blue', 'yellow', 'orange', 'purple', 'limegreen',\n",
    "          'cyan', 'brown', 'pink', 'gold', 'salmon', 'magenta',\n",
    "          'peachpuff', 'tan', 'aquamarine', 'green', 'coral', 'steelblue', 'beige']\n",
    "\n",
    "# Add color column to the data\n",
    "data['jelly_bean_color'] = np.random.choice(colors, people, replace=True)\n",
    "data.loc[data['eating'] == 'not eating', 'jelly_bean_color'] = np.nan\n",
    "\n",
    "# Display the head of the modified DataFrame\n",
    "data.head()"
   ]
  },
  {
   "cell_type": "markdown",
   "id": "eb85d6f8",
   "metadata": {},
   "source": [
    "We plot the distribution of acne condition for different jelly bean colors."
   ]
  },
  {
   "cell_type": "code",
   "execution_count": 6,
   "id": "87768d45",
   "metadata": {
    "scrolled": true
   },
   "outputs": [
    {
     "data": {
      "image/png": "[encoded data removed]",
      "text/plain": [
       "<Figure size 1800x500 with 1 Axes>"
      ]
     },
     "metadata": {},
     "output_type": "display_data"
    }
   ],
   "source": [
    "# Set the plot size\n",
    "plt.figure(figsize=(18, 5))\n",
    "\n",
    "# Filter out rows with NA in jelly_bean_color\n",
    "filtered_data = data.dropna(subset=['jelly_bean_color'])\n",
    "\n",
    "# Boxplot for jelly_bean_color vs acne_condition\n",
    "sns.boxplot(x='jelly_bean_color', y='acne_condition', data=filtered_data, hue='jelly_bean_color', palette=colors, hue_order=colors)\n",
    "\n",
    "# Remove legend\n",
    "# plt.legend().set_visible(False)\n",
    "\n",
    "# Set axis labels\n",
    "plt.xlabel('Jelly bean color')\n",
    "plt.ylabel('Acne condition')\n",
    "\n",
    "# Show the plot\n",
    "plt.show()"
   ]
  },
  {
   "cell_type": "markdown",
   "id": "91ad3110",
   "metadata": {},
   "source": [
    "To check the influence of a specific jelly bean color on acne condition you again run t-test."
   ]
  },
  {
   "cell_type": "code",
   "execution_count": 7,
   "id": "0c109ced",
   "metadata": {},
   "outputs": [],
   "source": [
    "import pandas as pd\n",
    "from scipy.stats import ttest_ind\n",
    "\n",
    "def test_color(data, color):\n",
    "    data['eating_color'] = data.apply(lambda row: 'yes' if row['jelly_bean_color'] == color and not pd.isna(row['jelly_bean_color']) else 'no', axis=1)\n",
    "    p_value = ttest_ind(data[data['eating_color'] == 'yes']['acne_condition'], data[data['eating_color'] == 'no']['acne_condition']).pvalue\n",
    "    return p_value\n"
   ]
  },
  {
   "cell_type": "code",
   "execution_count": 8,
   "id": "8d4702c8",
   "metadata": {},
   "outputs": [
    {
     "name": "stdout",
     "output_type": "stream",
     "text": [
      "P-value for 'red': 0.9484945625050416\n"
     ]
    }
   ],
   "source": [
    "p_value_red = test_color(data, 'red')\n",
    "print(f\"P-value for 'red': {p_value_red}\")"
   ]
  },
  {
   "cell_type": "markdown",
   "id": "2906ee32",
   "metadata": {},
   "source": [
    "You try blue color next. Same result!"
   ]
  },
  {
   "cell_type": "code",
   "execution_count": 9,
   "id": "123e63d6",
   "metadata": {},
   "outputs": [
    {
     "name": "stdout",
     "output_type": "stream",
     "text": [
      "P-value for 'blue': 0.6077910491569851\n"
     ]
    }
   ],
   "source": [
    "p_value_blue = test_color(data, 'blue')\n",
    "print(f\"P-value for 'blue': {p_value_blue}\")"
   ]
  },
  {
   "cell_type": "markdown",
   "id": "c04f08eb",
   "metadata": {},
   "source": [
    "So you run t-test for all  20\n",
    "  jelly bean colors and you observe the following distribution of p-values."
   ]
  },
  {
   "cell_type": "code",
   "execution_count": 10,
   "id": "3b9abd8c",
   "metadata": {},
   "outputs": [
    {
     "data": {
      "image/png": "[encoded data removed]",
      "text/plain": [
       "<Figure size 1800x400 with 1 Axes>"
      ]
     },
     "metadata": {},
     "output_type": "display_data"
    }
   ],
   "source": [
    "# Create t-test data\n",
    "ttest_data = pd.DataFrame({'color': colors, 'pval': [test_color(data, color) for color in colors]})\n",
    "\n",
    "# Set the plot size\n",
    "plt.figure(figsize=(18, 4))\n",
    "\n",
    "# Scatter plot with colors\n",
    "sns.scatterplot(x='color', y='pval', hue='color', data=ttest_data, palette=colors, s=100)\n",
    "\n",
    "# Add dashed line at y = 0.05\n",
    "plt.axhline(y=0.05, linestyle='--', color='black')\n",
    "\n",
    "# Set y-axis limits\n",
    "plt.ylim(0, 1)\n",
    "\n",
    "# Set axis labels\n",
    "plt.xlabel('Jelly bean color')\n",
    "plt.ylabel('p-value')\n",
    "\n",
    "# Hide the legend\n",
    "plt.legend().set_visible(False)\n",
    "\n",
    "# Show the plot\n",
    "plt.show()"
   ]
  },
  {
   "cell_type": "markdown",
   "id": "ffb84714",
   "metadata": {},
   "source": [
    "You discover that yellow jelly bean color has significant p-value."
   ]
  },
  {
   "cell_type": "code",
   "execution_count": 11,
   "id": "5d92f1bc",
   "metadata": {},
   "outputs": [
    {
     "name": "stdout",
     "output_type": "stream",
     "text": [
      "P-value for 'yellow': 0.020860204688484103\n"
     ]
    }
   ],
   "source": [
    "p_value_yellow = test_color(data, 'yellow')\n",
    "print(f\"P-value for 'yellow': {p_value_yellow}\")"
   ]
  },
  {
   "cell_type": "markdown",
   "id": "e9c1ce19",
   "metadata": {},
   "source": [
    "You finally publish your breaking news!"
   ]
  },
  {
   "cell_type": "markdown",
   "id": "ac0db7f9",
   "metadata": {},
   "source": [
    "## Explanation"
   ]
  },
  {
   "cell_type": "markdown",
   "id": "91b93688",
   "metadata": {},
   "source": [
    "Now let's figure out what is going on here. So far it looks quite counterintuitive: it seems that the way we generated the data should make the acne condition completely independent of eating jelly beans of any color.\n",
    "\n",
    "Actually, it is not the data that causes the problem, it is the testing procedure!\n",
    "\n",
    "It turns out that even if there is no effect of eating jelly beans on acne the probability to observe a significant result is equal to  0.05\n",
    " . This can be explained by the fact that p-value is uniformly distributed under the null; thus, observing p-value less than 0.05 has exactly  5%\n",
    "  chance.\n",
    "\n",
    "It is not hard to derive the formal proof of this fact, however, one can check this statement via simulation as well. To do so, we\n",
    "\n",
    "generate jelly beans data  10000\n",
    "  times;\n",
    "run t-test for each data testing the null \"there is no effect of eating jelly beans on acne condition\";\n",
    "check the distribution of p-values. Note that the way we generate the data guarantees the real data distribution to follow the hypothesis."
   ]
  },
  {
   "cell_type": "code",
   "execution_count": 12,
   "id": "bbf518fa",
   "metadata": {},
   "outputs": [],
   "source": [
    "from scipy.stats import ttest_ind\n",
    "\n",
    "# Function to generate data\n",
    "def generate_data(people, p_eat_jelly_bean):\n",
    "    acne_condition = np.random.rand(people)\n",
    "    eating = np.random.choice(['eating', 'not eating'], people, replace=True, p=[p_eat_jelly_bean, 1 - p_eat_jelly_bean])\n",
    "    data = pd.DataFrame({'acne_condition': acne_condition, 'eating': eating})\n",
    "    return data\n",
    "\n",
    "# Number of people and probability\n",
    "people = 500\n",
    "p_eat_jelly_bean = 0.9\n",
    "\n",
    "# Number of trials\n",
    "trial = 10000\n",
    "\n",
    "# Function to compute p-values for 10000 random data sets\n",
    "def compute_pvalues(trial):\n",
    "    pvals = np.zeros(trial)\n",
    "    for i in range(trial):\n",
    "        data = generate_data(people, p_eat_jelly_bean)\n",
    "        pvals[i] = ttest_ind(data[data['eating'] == 'eating']['acne_condition'],\n",
    "                              data[data['eating'] == 'not eating']['acne_condition']).pvalue\n",
    "    return pvals\n",
    "\n",
    "# Run the function\n",
    "pvals = compute_pvalues(trial)\n"
   ]
  },
  {
   "cell_type": "markdown",
   "id": "de9510e9",
   "metadata": {},
   "source": [
    "The histogram demonstrates that p-value follows the uniform distribution. Thus, we conclude that there is  5%\n",
    "  chance to observe significant p-value even if the null is true."
   ]
  },
  {
   "cell_type": "code",
   "execution_count": 13,
   "id": "37b8b5f1",
   "metadata": {},
   "outputs": [
    {
     "data": {
      "image/png": "[encoded data removed]",
      "text/plain": [
       "<Figure size 500x400 with 1 Axes>"
      ]
     },
     "metadata": {},
     "output_type": "display_data"
    }
   ],
   "source": [
    "# Set the plot size\n",
    "plt.figure(figsize=(5, 4))\n",
    "\n",
    "# Plot histogram using seaborn\n",
    "sns.histplot(pvals, bins=np.arange(0, 1.1, 0.1), kde=True, color='orange', alpha=0.5)\n",
    "\n",
    "# Set axis labels\n",
    "plt.xlabel('p-values')\n",
    "plt.ylabel('Density')\n",
    "\n",
    "# Show the plot\n",
    "plt.show()"
   ]
  },
  {
   "cell_type": "markdown",
   "id": "9ab2fc8f",
   "metadata": {},
   "source": [
    "Next, if there is  5%\n",
    "  to observe a significant result under the null, then testing  20\n",
    "  hypotheses will result in"
   ]
  },
  {
   "cell_type": "markdown",
   "id": "aee8ac83",
   "metadata": {},
   "source": [
    "\\begin{equation} 1 - 0.95^{20} \\approx 64\\%\\end{equation}"
   ]
  },
  {
   "cell_type": "markdown",
   "id": "f75e1e8b",
   "metadata": {},
   "source": [
    "chance to observe at least one significant test among these  20\n",
    " . In other words, running many tests on the same data increased the probability to observe some significant result form  5%\n",
    "  to  64%\n",
    " ! This explaines why checking 20 different jelly bean colors revealed one color that is \"associated\" with acne."
   ]
  },
  {
   "cell_type": "markdown",
   "id": "3537242d",
   "metadata": {},
   "source": [
    "## Conclusion\n",
    "Looking for patterns in data is legitimate. However, you should be very careful when interpreting the results. As we showed above, running multiple tests and presenting only the significant ones without the appropriate context can be very misleading.\n",
    "\n",
    "There are some remedies for data snooping:\n",
    "\n",
    "- clearly state the testing proceedure and share the details about the number of tests you conducted;\n",
    "- conduct randomized out-of-sample tests or use cross-validation to validate your hypothesis;\n",
    "- record the number of all significance tests conducted during the study and apply some correction (e.g. Bonferroni correction; the less conservative way would be to use Benjamini and Hochberg's false discovery rate)."
   ]
  }
 ],
 "metadata": {
  "kernelspec": {
   "display_name": "Python 3 (ipykernel)",
   "language": "python",
   "name": "python3"
  },
  "language_info": {
   "codemirror_mode": {
    "name": "ipython",
    "version": 3
   },
   "file_extension": ".py",
   "mimetype": "text/x-python",
   "name": "python",
   "nbconvert_exporter": "python",
   "pygments_lexer": "ipython3",
   "version": "3.11.5"
  }
 },
 "nbformat": 4,
 "nbformat_minor": 5
}
